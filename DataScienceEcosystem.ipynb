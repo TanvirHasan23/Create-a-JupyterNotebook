{
 "cells": [
  {
   "cell_type": "markdown",
   "id": "099d2af8-4539-4668-b8f0-fb38c9c2a886",
   "metadata": {},
   "source": [
    "#Data Science Tools and Ecosystem"
   ]
  },
  {
   "cell_type": "markdown",
   "id": "97c9caa6-79fa-4710-bf67-e609528de4ed",
   "metadata": {},
   "source": [
    "In this notebook, Data Science Tools and Ecosystem are summarized."
   ]
  },
  {
   "cell_type": "markdown",
   "id": "a53e5288-9882-42c3-a257-6248f0e55b90",
   "metadata": {},
   "source": [
    "Some of the popular languages that Data Scientists use are:\n",
    "1. Python\n",
    "3. R\n",
    "4. SQL"
   ]
  },
  {
   "cell_type": "markdown",
   "id": "7fa2a720-db05-4d7c-aef4-2b6282a0005d",
   "metadata": {},
   "source": [
    "|Data Science Tools|\n",
    "\n",
    "MySQL   |  SparkSQL   |  NumPy |\n",
    "Pandas  |  Matplotlib |  GitHub"
   ]
  },
  {
   "cell_type": "markdown",
   "id": "eca8ec01-2fbf-4355-bc6a-1c6001a20250",
   "metadata": {},
   "source": [
    "###Below are a few examples of evaluating arithmetic expressions in Python"
   ]
  },
  {
   "cell_type": "code",
   "execution_count": 2,
   "id": "1a4dea63-f4f4-4fee-ae14-d93b84765246",
   "metadata": {},
   "outputs": [
    {
     "data": {
      "text/plain": [
       "17"
      ]
     },
     "execution_count": 2,
     "metadata": {},
     "output_type": "execute_result"
    }
   ],
   "source": [
    "# This a simple arithmetic expression to mutiply then add integers\n",
    "(3*4)+5"
   ]
  },
  {
   "cell_type": "code",
   "execution_count": 4,
   "id": "d39f4bde-1430-4344-bd6b-4aef598e1331",
   "metadata": {},
   "outputs": [
    {
     "name": "stdout",
     "output_type": "stream",
     "text": [
      "3.3333333333333335\n"
     ]
    }
   ],
   "source": [
    "# This will convert 200 minutes to hours by diving by 60\n",
    "minutes = 200\n",
    "hours = minutes/60\n",
    "print(hours)"
   ]
  },
  {
   "cell_type": "markdown",
   "id": "c1d269c0-c6ad-4e1a-a03a-477eea83c651",
   "metadata": {},
   "source": [
    "##Author\n",
    "\n",
    "Md Tanvir Hasan"
   ]
  }
 ],
 "metadata": {
  "kernelspec": {
   "display_name": "Python 3 (ipykernel)",
   "language": "python",
   "name": "python3"
  },
  "language_info": {
   "codemirror_mode": {
    "name": "ipython",
    "version": 3
   },
   "file_extension": ".py",
   "mimetype": "text/x-python",
   "name": "python",
   "nbconvert_exporter": "python",
   "pygments_lexer": "ipython3",
   "version": "3.11.7"
  }
 },
 "nbformat": 4,
 "nbformat_minor": 5
}
